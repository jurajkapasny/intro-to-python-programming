{
 "cells": [
  {
   "cell_type": "markdown",
   "id": "6f7eb98c-be63-4ff8-a557-eed2a8f768af",
   "metadata": {},
   "source": [
    "In this lecture, we will learn how to create multiple types of graphs with Matplotlib stateful approach. We will also learn how to customize graphs with legends, annotations, and so on. Let's begin with importing the necessary libraries."
   ]
  },
  {
   "cell_type": "code",
   "execution_count": null,
   "id": "a7e30670-154c-4782-96fc-99dd3d911ffe",
   "metadata": {},
   "outputs": [],
   "source": [
    "# import numpy\n",
    "import numpy as np\n",
    "\n",
    "# import matplotlib\n",
    "import matplotlib.pyplot as plt\n",
    "\n",
    "# set figure size for each figure in this tutorial\n",
    "plt.rcParams[\"figure.figsize\"] = (10,6)"
   ]
  },
  {
   "cell_type": "markdown",
   "id": "2c151a7f-820a-41f8-a65c-192fc0eec3b9",
   "metadata": {},
   "source": [
    "# Plotting charts\n",
    "Let's learn how to plot some basic charts."
   ]
  },
  {
   "cell_type": "markdown",
   "id": "0f48b0cc-5d26-4b85-ab9f-44df069b04a4",
   "metadata": {},
   "source": [
    "## Line plot"
   ]
  },
  {
   "cell_type": "markdown",
   "id": "bbe1238e-3090-4914-8477-d7488995e3ae",
   "metadata": {},
   "source": [
    "In this example, we will create a sine wave with x-range from 0 to 100. We will generate data by using Numpy."
   ]
  },
  {
   "cell_type": "code",
   "execution_count": null,
   "id": "ee43ecaf-a932-454b-8831-2ef86220ab81",
   "metadata": {},
   "outputs": [],
   "source": [
    "# 200 values from interval <0,100>, equidistantly divided\n",
    "x = np.linspace(0,100,200)\n",
    "y = np.sin(x)\n",
    "\n",
    "# line plot\n",
    "plt.plot(x,y,'red')\n",
    "plt.show()"
   ]
  },
  {
   "cell_type": "markdown",
   "id": "88172567-9f55-4d57-823a-3916b9adf76f",
   "metadata": {},
   "source": [
    "## Scatter plot\n"
   ]
  },
  {
   "cell_type": "code",
   "execution_count": null,
   "id": "d7a21adc-8abf-40e6-8386-dc71ea607269",
   "metadata": {},
   "outputs": [],
   "source": [
    "# 200 random values from interval <0,10>\n",
    "x = 10*np.random.rand(200,1)\n",
    "\n",
    "# 200 random values from interval <0,15>\n",
    "y = 15*np.random.rand(200,1)\n",
    "\n",
    "# scatter plot \n",
    "plt.scatter(x,y)\n",
    "plt.show()"
   ]
  },
  {
   "cell_type": "markdown",
   "id": "c9afcbf7-1160-4ac6-ba24-8686120404fd",
   "metadata": {},
   "source": [
    "## Historgram"
   ]
  },
  {
   "cell_type": "code",
   "execution_count": null,
   "id": "087255c7-aeea-4273-ae83-63ffbfe631fa",
   "metadata": {},
   "outputs": [],
   "source": [
    "# 200 random values from interval <0,15>\n",
    "y = 15*np.random.rand(200,1)\n",
    "\n",
    "# histogram with 20 bins\n",
    "plt.hist(y,bins=20)\n",
    "plt.show()"
   ]
  },
  {
   "cell_type": "markdown",
   "id": "a3c9f48e-2f2e-4e9d-928f-10952f706140",
   "metadata": {},
   "source": [
    "# Plot customization\n",
    "Now that we know how to plot basic charts with Matplotlib, it's time to move a little bit further. We will learn some plot customizations.\n",
    "\n"
   ]
  },
  {
   "cell_type": "markdown",
   "id": "18fb0a3d-c6a6-4ab6-bb53-9e0468e9cf75",
   "metadata": {},
   "source": [
    "## Graphs with common axes"
   ]
  },
  {
   "cell_type": "markdown",
   "id": "90a243f4-1475-4481-a913-d892113491d8",
   "metadata": {},
   "source": [
    "In this example, we will plot two mathematical functions (sin(x), sin(x)*cos(x)) on one figure with shared axis."
   ]
  },
  {
   "cell_type": "code",
   "execution_count": null,
   "id": "66fa698c-0976-4609-80dd-c9798d0959f5",
   "metadata": {},
   "outputs": [],
   "source": [
    "# 200 values from interval <0,100>, equidistantly divided\n",
    "x = np.linspace(0,100,200)\n",
    "\n",
    "# sin(x) values\n",
    "y1 = np.sin(x)\n",
    "\n",
    "# sin(x)*cos(x) values\n",
    "y2 =(np.sin(x))*(np.cos(x))\n",
    "\n",
    "# line plot of sin(x), red line\n",
    "plt.plot(x,y1,'red')\n",
    "\n",
    "# line plot of sin(x)*cos(x), blue line\n",
    "plt.plot(x,y2,'blue')\n",
    "plt.show()\n"
   ]
  },
  {
   "cell_type": "markdown",
   "id": "dbabe283-461f-451a-bf18-42bae7546c0a",
   "metadata": {},
   "source": [
    "## Subplots\n",
    "Let's continue with the example above with a small change. Now we want to have a separate figure with its own axis for each function.\n",
    "\n",
    "The first two parameters of plt.subplot() are the shapes of the grid with figures. In our example, we created a grid with 2 rows and one column. If we want to have our figures side by side (1 row 2 columns) we simply swap these parameters. The third parameter is the index of the actual figure we are plotting in. The index starts at 1 in the upper left corner of the grid and increases to the right."
   ]
  },
  {
   "cell_type": "code",
   "execution_count": null,
   "id": "be35bd40-7370-43f8-8cff-51645e5450bd",
   "metadata": {},
   "outputs": [],
   "source": [
    "# first figure\n",
    "plt.subplot(2,1,1)\n",
    "plt.plot(x,y1,'red')\n",
    "plt.title('sin(x)')\n",
    "\n",
    "# second figure\n",
    "plt.subplot(2,1,2)\n",
    "plt.plot(x,y2,'blue')\n",
    "plt.title('sin(x)*(cos(x))')\n",
    "\n",
    "# automatically adjust subplot parameters to give specified padding\n",
    "plt.tight_layout()\n",
    "plt.show()"
   ]
  },
  {
   "cell_type": "markdown",
   "id": "efc840b8-4598-478f-abe0-539d35c20592",
   "metadata": {},
   "source": [
    "## Legends\n",
    "In the next two examples, we will use the popular Iris dataset. For this purpose, we have to import Pandas and Sklearn libraries."
   ]
  },
  {
   "cell_type": "code",
   "execution_count": null,
   "id": "6eb78103-c144-445e-8be2-013bf71b6f3b",
   "metadata": {},
   "outputs": [],
   "source": [
    "# import pandas\n",
    "import pandas as pd\n",
    "\n",
    "# import sklearn datasets\n",
    "from sklearn import datasets\n"
   ]
  },
  {
   "cell_type": "code",
   "execution_count": null,
   "id": "b062c8a1-d9cb-4cc9-8506-d3d212a95313",
   "metadata": {},
   "outputs": [],
   "source": [
    "# load iris dataset\n",
    "iris = datasets.load_iris()\n",
    "\n",
    "# create dataframe\n",
    "iris_df = pd.DataFrame(iris.data, columns=iris.feature_names)\n",
    "\n",
    "# create target\n",
    "iris_df['target'] = iris.target\n",
    "\n",
    "# map target values to target names\n",
    "iris_df['target_name'] =iris_df.target.map(\n",
    "    {0: 'setosa', \n",
    "     1: 'versicolor',\n",
    "     2: 'virginica'}\n",
    ")"
   ]
  },
  {
   "cell_type": "code",
   "execution_count": null,
   "id": "2e05b48d-34ab-48c0-b8ef-f17c3f8471a5",
   "metadata": {},
   "outputs": [],
   "source": [
    "# Print the top 5 rows of the created data frame\n",
    "iris_df.head()"
   ]
  },
  {
   "cell_type": "code",
   "execution_count": null,
   "id": "c6e2b09e-7025-4cd0-977b-404dfae7390b",
   "metadata": {},
   "outputs": [],
   "source": [
    "# Now, let's plot a scatter plot of sepal length and sepal width for each type of the Iris flower\n",
    "\n",
    "# Iris setosa\n",
    "setosa = iris_df[iris_df.target_name == 'setosa']\n",
    "\n",
    "# Iris versicolor\n",
    "versicolor = iris_df[iris_df.target_name == 'versicolor']\n",
    "\n",
    "# Iris virginica\n",
    "virginica = iris_df[iris_df.target_name == 'virginica']\n",
    "\n",
    "# plot setosa\n",
    "plt.scatter(setosa['sepal length (cm)'], setosa['sepal width (cm)'],\n",
    "            marker ='o', color = 'red', label = 'setosa')\n",
    "\n",
    "# plot versicolor\n",
    "plt.scatter(versicolor['sepal length (cm)'], versicolor['sepal width (cm)'],\n",
    "            marker ='o', color = 'green', label = 'versicolor')\n",
    "\n",
    "# plot virginica\n",
    "plt.scatter(virginica['sepal length (cm)'], virginica['sepal width (cm)'],\n",
    "            marker ='o', color = 'blue', label = 'virginica')\n",
    "\n",
    "# legend location\n",
    "plt.legend(loc='upper right')\n",
    "\n",
    "# plot title\n",
    "plt.title('Iris flower')\n",
    "\n",
    "# x-axis title\n",
    "plt.xlabel('sepal length (cm)')\n",
    "\n",
    "# y-axis title\n",
    "plt.ylabel('sepal width (cm)')\n",
    "plt.show()\n",
    "\n",
    "# By setting the label parameter in each scatter plot we set the name displayed in the legend."
   ]
  },
  {
   "cell_type": "markdown",
   "id": "34f2f0eb-2803-4145-9523-5e7bd7703dfb",
   "metadata": {},
   "source": [
    "## Annotations\n",
    "If we want to add annotations to the figure we created in the example above, we can do that by making the following changes to the code:"
   ]
  },
  {
   "cell_type": "code",
   "execution_count": null,
   "id": "10850b49-edef-4c7f-b54e-14520479bfc9",
   "metadata": {},
   "outputs": [],
   "source": [
    "# same code as before\n",
    "plt.scatter(setosa['sepal length (cm)'],setosa['sepal width (cm)'],\n",
    "            marker ='o', color = 'red', label = 'setosa')\n",
    "\n",
    "plt.scatter(versicolor['sepal length (cm)'],versicolor['sepal width (cm)'],\n",
    "            marker ='o', color = 'green', label = 'versicolor')\n",
    "\n",
    "plt.scatter(virginica['sepal length (cm)'],virginica['sepal width (cm)'],\n",
    "            marker ='o', color = 'blue', label = 'virginica')\n",
    "\n",
    "# new lines of code\n",
    "######################\n",
    "plt.annotate('setosa', xy =(5.0,3.5),\n",
    "             xytext = (4.25,4.0), arrowprops={'color':'red'})\n",
    "plt.annotate('versicolor', xy =(7.2,3.6),\n",
    "             xytext = (6.5,4.0), arrowprops={'color':'red'})\n",
    "plt.annotate('virginica', xy =(5.05,1.95),\n",
    "             xytext = (5.5,1.75), arrowprops={'color':'red'})\n",
    "######################\n",
    "\n",
    "# same code as before\n",
    "plt.legend(loc='upper right')\n",
    "plt.title('Iris flower')\n",
    "plt.xlabel('sepal length (cm)')\n",
    "plt.ylabel('sepal width (cm)')\n",
    "plt.ylim(1.5,4.7)\n",
    "plt.show()\n",
    "\n",
    "#To add annotations we used the plt.annotate() function. The xy parameter is a tuple containing the position which the arrow is pointing to. \n",
    "# The xytext is a tuple containing the position where the text of the annotation is placed."
   ]
  },
  {
   "cell_type": "markdown",
   "id": "2377bf14-0dcc-48ec-9ff8-e45bbd513fae",
   "metadata": {},
   "source": [
    "# Seaborn"
   ]
  },
  {
   "cell_type": "markdown",
   "id": "706184b1-024e-449d-b51c-35313df13c0d",
   "metadata": {},
   "source": [
    "Now, we will learn how to create some interesting charts with Seaborn which are not available in Matplotlib. We will also see how easy it is to create a complex chart with this library. Let's begin with importing Seaborn and loading 'tips' dataset from built-in datasets."
   ]
  },
  {
   "cell_type": "code",
   "execution_count": null,
   "id": "42dbb9a9-88a0-4819-96d4-66bcca79e647",
   "metadata": {},
   "outputs": [],
   "source": [
    "# import seaborn\n",
    "import seaborn as sns\n",
    "\n",
    "# import matplotlib\n",
    "import matplotlib.pyplot as plt\n",
    "\n",
    "# load built-in tips dataset\n",
    "tips = sns.load_dataset('tips')"
   ]
  },
  {
   "cell_type": "code",
   "execution_count": null,
   "id": "95373842-fade-4a1f-b6aa-a5884124c910",
   "metadata": {},
   "outputs": [],
   "source": [
    "# print head\n",
    "tips.head()"
   ]
  },
  {
   "cell_type": "markdown",
   "id": "917889a4-fc12-45ef-8cfe-e240c7b0541e",
   "metadata": {},
   "source": [
    "## Regression line with a confidence interval\n",
    "A regression line with confidence interval can be handy, for example, when we want to plot the dependence of a tip based on the total bill. It can be done by computing the regression line and the confidence interval with some library (sklearn, statsmodels, SciPy) and then plot the result using Matplotlib. But let's see how easily it can be done with Seaborn."
   ]
  },
  {
   "cell_type": "code",
   "execution_count": null,
   "id": "fcb83160-1a06-49d2-a394-37ebd0be9d0a",
   "metadata": {},
   "outputs": [],
   "source": [
    "# regresion line with confidence inetrval plot\n",
    "sns.lmplot(x='total_bill', y='tip', data = tips)\n",
    "plt.show()"
   ]
  },
  {
   "cell_type": "markdown",
   "id": "3d123a5a-1c6f-4f79-8c7b-a4a0f75f3bf7",
   "metadata": {},
   "source": [
    "Now if we want to have two regression lines in one chart – one for female tips and one for male tips – we can modify the code above and use the hue parameter."
   ]
  },
  {
   "cell_type": "code",
   "execution_count": null,
   "id": "990bb71f-67ad-49a6-a50f-2e623ff477a9",
   "metadata": {},
   "outputs": [],
   "source": [
    "sns.lmplot(x='total_bill',y='tip', data = tips, hue = 'sex')\n",
    "plt.show()"
   ]
  },
  {
   "cell_type": "markdown",
   "id": "b840d723-42b9-43cd-b1fb-487e5f22d35f",
   "metadata": {},
   "source": [
    "On the other hand, we could also have one plot for each of the regression lines and write only one line of code."
   ]
  },
  {
   "cell_type": "code",
   "execution_count": null,
   "id": "a1e96c79-8a62-411a-ac8a-d0e9b202bd8f",
   "metadata": {},
   "outputs": [],
   "source": [
    "sns.lmplot(x='total_bill',y='tip', data = tips, col = 'sex')\n",
    "plt.show()"
   ]
  },
  {
   "cell_type": "markdown",
   "id": "683757bc-7a03-4bc9-b2d8-444f3a72a234",
   "metadata": {},
   "source": [
    "## Residual plot\n",
    "Another plot that is related to the regression line is a residual plot. We don't need to compute residuals manually and then plot the results. Instead, we can use a built-in function."
   ]
  },
  {
   "cell_type": "code",
   "execution_count": null,
   "id": "69132f30-853f-4aad-a5e0-c4361fb5f962",
   "metadata": {},
   "outputs": [],
   "source": [
    "sns.residplot(x='total_bill',y='tip', data = tips)\n",
    "plt.show()"
   ]
  },
  {
   "cell_type": "markdown",
   "id": "7cd4e95f-8b15-4e9d-9c55-ce496bc565b5",
   "metadata": {},
   "source": [
    "## Strip plot"
   ]
  },
  {
   "cell_type": "code",
   "execution_count": null,
   "id": "fcb0181b-64c6-4d89-9b24-74d73a6547ff",
   "metadata": {},
   "outputs": [],
   "source": [
    "sns.stripplot(x='day',y ='tip',data = tips, size =5, jitter = True)\n",
    "\n",
    "# overwrite original y-label from 'tip' to 'tip ($)'\n",
    "plt.ylabel('tip ($)')\n",
    "plt.show()"
   ]
  },
  {
   "cell_type": "markdown",
   "id": "c2cc2b7e-2127-40a8-97ad-ff8dd1299339",
   "metadata": {},
   "source": [
    "## Swarm plot"
   ]
  },
  {
   "cell_type": "code",
   "execution_count": null,
   "id": "bdf45315-413c-4db4-a65e-fb9a57678daa",
   "metadata": {},
   "outputs": [],
   "source": [
    "sns.swarmplot(x='day',y='tip',data = tips, hue = 'sex')\n",
    "\n",
    "# overwrite original y-label from 'tip' to 'tip ($)'\n",
    "plt.ylabel('tip ($)')\n",
    "plt.show()"
   ]
  },
  {
   "cell_type": "markdown",
   "id": "79b365b0-a03c-4866-8c63-94670125b249",
   "metadata": {},
   "source": [
    "## Boxplot + Violin plot"
   ]
  },
  {
   "cell_type": "code",
   "execution_count": null,
   "id": "81737634-8c01-45e5-9c6d-c374a34f6898",
   "metadata": {},
   "outputs": [],
   "source": [
    "# create grid with 1 row 2 columns\n",
    "plt.subplot(1,2,1)\n",
    "\n",
    "# first plot\n",
    "sns.boxplot(x='day',y='tip', data = tips)\n",
    "plt.ylabel('tip ($)')\n",
    "\n",
    "plt.subplot(1,2,2)\n",
    "\n",
    "# second plot\n",
    "sns.violinplot(x='day',y='tip', data = tips)\n",
    "plt.ylabel('tip ($)')\n",
    "plt.tight_layout()\n",
    "plt.show()"
   ]
  },
  {
   "cell_type": "markdown",
   "id": "77aff9f5-8e3a-4524-a949-2cdca40cef36",
   "metadata": {},
   "source": [
    "## Joint plot\n",
    "Joint plot with histograms"
   ]
  },
  {
   "cell_type": "code",
   "execution_count": null,
   "id": "7d78a0f1-e24b-44d8-bd9b-e3812eb7bf67",
   "metadata": {},
   "outputs": [],
   "source": [
    "sns.jointplot(x='total_bill', y='tip', data = tips)\n",
    "plt.show()"
   ]
  },
  {
   "cell_type": "markdown",
   "id": "3c8404aa-2156-43ff-8d54-9babdf060d0a",
   "metadata": {},
   "source": [
    "Joint plot with density estimates"
   ]
  },
  {
   "cell_type": "code",
   "execution_count": null,
   "id": "4e2b4322-f261-4d99-9d05-a8c7470cd812",
   "metadata": {},
   "outputs": [],
   "source": [
    "sns.jointplot(x='total_bill', y='tip', data = tips, kind = 'kde')\n",
    "plt.show()"
   ]
  },
  {
   "cell_type": "markdown",
   "id": "a7f46cfd-d6de-493f-804e-4478a3926bdc",
   "metadata": {},
   "source": [
    "## Pair plot"
   ]
  },
  {
   "cell_type": "code",
   "execution_count": null,
   "id": "2a3cdb9a-025e-4974-b20a-60e48c51d687",
   "metadata": {},
   "outputs": [],
   "source": [
    "sns.pairplot(tips)\n",
    "plt.show()"
   ]
  },
  {
   "cell_type": "markdown",
   "id": "e95d0fc2-e967-4e11-a76a-9231c771d8fb",
   "metadata": {},
   "source": [
    "Pair plot with the hue parameter:"
   ]
  },
  {
   "cell_type": "code",
   "execution_count": null,
   "id": "ced6607c-e932-4d54-ac45-5fa1f9c0940b",
   "metadata": {},
   "outputs": [],
   "source": [
    "sns.pairplot(tips, hue = 'sex')\n",
    "plt.show()"
   ]
  },
  {
   "cell_type": "markdown",
   "id": "83e0405d-667c-4e6d-95b5-c0ef03a9d213",
   "metadata": {},
   "source": [
    "## Heatmap"
   ]
  },
  {
   "cell_type": "code",
   "execution_count": null,
   "id": "9662ed37-a46d-4845-a54a-1072b4e5ee62",
   "metadata": {},
   "outputs": [],
   "source": [
    "# compute correlations betwwen features\n",
    "df_corr = tips.corr()\n",
    "\n",
    "# plot correlations\n",
    "sns.heatmap(df_corr)\n",
    "plt.title('Correlation plot')\n",
    "plt.show()"
   ]
  },
  {
   "cell_type": "code",
   "execution_count": null,
   "id": "afcc2bee-2c19-4e88-89c1-ff509b1f2ecf",
   "metadata": {},
   "outputs": [],
   "source": []
  }
 ],
 "metadata": {
  "kernelspec": {
   "display_name": "Python 3 (ipykernel)",
   "language": "python",
   "name": "python3"
  },
  "language_info": {
   "codemirror_mode": {
    "name": "ipython",
    "version": 3
   },
   "file_extension": ".py",
   "mimetype": "text/x-python",
   "name": "python",
   "nbconvert_exporter": "python",
   "pygments_lexer": "ipython3",
   "version": "3.9.7"
  }
 },
 "nbformat": 4,
 "nbformat_minor": 5
}
